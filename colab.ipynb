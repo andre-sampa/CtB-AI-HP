{
 "cells": [
  {
   "cell_type": "code",
   "execution_count": null,
   "metadata": {},
   "outputs": [],
   "source": [
    "# colab.ipynb\n",
    "import sys\n",
    "import os\n",
    "\n",
    "# Get the root folder path\n",
    "root_path = os.path.abspath(\"\")\n",
    "\n",
    "# Add all subfolders in the root directory to the Python path\n",
    "for root, dirs, files in os.walk(root_path):\n",
    "    for dir_name in dirs:\n",
    "        dir_path = os.path.join(root, dir_name)\n",
    "        if dir_path not in sys.path:\n",
    "            sys.path.append(dir_path)\n",
    "\n",
    "# Import necessary libraries\n",
    "import random\n",
    "from huggingface_hub import InferenceClient\n",
    "from PIL import Image\n",
    "from google.colab import userdata\n",
    "from IPython.display import display, clear_output\n",
    "import ipywidgets as widgets\n",
    "from datetime import datetime\n",
    "from img_gen_logic_colab import generate_image, on_generate_button_clicked\n",
    "from config_colab import models, api_token  # Import from config folder\n",
    "\n",
    "\n",
    "# Initialize the InferenceClient with the default model\n",
    "client = InferenceClient(models[0][\"name\"], token=api_token)\n",
    "\n",
    "# Create widgets\n",
    "left_hp_input = widgets.IntText(description=\"Left Castle HP:\")\n",
    "right_hp_input = widgets.IntText(description=\"Right Castle HP:\")\n",
    "height_input = widgets.IntText(value=360, description=\"Height:\")\n",
    "width_input = widgets.IntText(value=640, description=\"Width:\")\n",
    "num_inference_steps_input = widgets.IntSlider(value=20, min=10, max=100, description=\"Inference Steps:\")\n",
    "guidance_scale_input = widgets.FloatSlider(value=2, min=1.0, max=20.0, description=\"Guidance Scale:\")\n",
    "seed_input = widgets.IntText(value=random.randint(0, 1000000), description=\"Seed:\")\n",
    "randomize_seed_checkbox = widgets.Checkbox(value=True, description=\"Randomize Seed\")\n",
    "generate_button = widgets.Button(description=\"Generate Image\", button_style=\"success\")\n",
    "output = widgets.Output()\n",
    "\n",
    "\n",
    "# Attach the button click event handler\n",
    "generate_button.on_click(lambda b: on_generate_button_clicked(\n",
    "    b, output, left_hp_input, right_hp_input, height_input, width_input,\n",
    "    num_inference_steps_input, guidance_scale_input, seed_input, randomize_seed_checkbox,\n",
    "    models, api_token\n",
    "))\n",
    "\n",
    "# Display the widgets\n",
    "#display(left_hp_input, right_hp_input, height_input, width_input, num_inference_steps_input, guidance_scale_input, seed_input, randomize_seed_checkbox, generate_button, output)\n",
    "\n",
    "display(left_hp_input, right_hp_input, generate_button, output)"
   ]
  }
 ],
 "metadata": {
  "kernelspec": {
   "display_name": "Python 3",
   "language": "python",
   "name": "python3"
  },
  "language_info": {
   "name": "python",
   "version": "3.12.0"
  }
 },
 "nbformat": 4,
 "nbformat_minor": 2
}
